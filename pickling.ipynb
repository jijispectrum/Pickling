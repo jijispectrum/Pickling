{
  "nbformat": 4,
  "nbformat_minor": 0,
  "metadata": {
    "colab": {
      "provenance": [],
      "toc_visible": true
    },
    "kernelspec": {
      "name": "python3",
      "display_name": "Python 3"
    },
    "language_info": {
      "name": "python"
    }
  },
  "cells": [
    {
      "cell_type": "code",
      "execution_count": 1,
      "metadata": {
        "id": "OOIrv1_zhVwz"
      },
      "outputs": [],
      "source": [
        "import pickle\n",
        "mylist = ['a', 'b', 'c', 'd']\n",
        "with open('datafile.txt', 'wb') as fh:\n",
        "   pickle.dump(mylist, fh)"
      ]
    },
    {
      "cell_type": "code",
      "source": [
        "import pickle\n",
        "pickle_off = open (\"datafile.txt\", \"rb\")\n",
        "emp = pickle.load(pickle_off)\n",
        "print(emp)"
      ],
      "metadata": {
        "colab": {
          "base_uri": "https://localhost:8080/"
        },
        "id": "QzdwnQeFhXVq",
        "outputId": "dc0f5e50-b4c9-4a6d-d6d6-c2a24b0b8867"
      },
      "execution_count": 2,
      "outputs": [
        {
          "output_type": "stream",
          "name": "stdout",
          "text": [
            "['a', 'b', 'c', 'd']\n"
          ]
        }
      ]
    },
    {
      "cell_type": "code",
      "source": [],
      "metadata": {
        "id": "cbL4O3-miBCA"
      },
      "execution_count": null,
      "outputs": []
    }
  ]
}